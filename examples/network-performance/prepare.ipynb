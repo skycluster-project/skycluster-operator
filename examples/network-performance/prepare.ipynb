{
 "cells": [
  {
   "cell_type": "code",
   "execution_count": 1,
   "id": "e00e8e5d",
   "metadata": {},
   "outputs": [],
   "source": [
    "import yaml\n",
    "\n",
    "def base_yaml_all(base_file):\n",
    "  with open(base_file) as f:\n",
    "    bases = list(yaml.safe_load_all(f))\n",
    "  return bases\n",
    "\n",
    "def base_yaml(base_file):\n",
    "  with open(base_file) as f:\n",
    "    base = yaml.safe_load(f)\n",
    "  return base"
   ]
  },
  {
   "cell_type": "code",
   "execution_count": 2,
   "id": "86fb390d",
   "metadata": {},
   "outputs": [],
   "source": [
    "base_dir = \"base-yamls/\"\n",
    "ns_base = base_yaml(base_dir + \"namespace.yaml\")\n",
    "fortio_server = base_yaml(base_dir + \"fortio-server-dp.yaml\")\n",
    "iperf3_server = base_yaml(base_dir + \"iperf3-server-dp.yaml\")\n",
    "iperf3_svc = base_yaml(base_dir + \"iperf3-server-svc.yaml\")\n",
    "fortio_svc = base_yaml(base_dir + \"fortio-server-svc.yaml\")\n",
    "dst_rule = base_yaml(base_dir + \"destination-rule.yaml\")\n",
    "svs_monitor = base_yaml(base_dir + \"svc-monitor.yaml\")\n",
    "client_fortio = base_yaml_all(base_dir + \"client-fortio-job.yaml\")\n",
    "client_iperf3 = base_yaml_all(base_dir + \"client-iperf3-job.yaml\")\n",
    "pv = base_yaml(base_dir + \"pv.yaml\")\n",
    "pvc = base_yaml(base_dir + \"pvc.yaml\")"
   ]
  },
  {
   "cell_type": "code",
   "execution_count": 3,
   "id": "497e32f5",
   "metadata": {},
   "outputs": [],
   "source": [
    "# AWS EAST\n",
    "l = dict()\n",
    "yamls = {}\n",
    "namespace = \"loadtest\"\n",
    "\n",
    "l[\"aws_east\"] = {\n",
    "  \"labels\": {\n",
    "    \"provider\": \"aws-us-east-1\"\n",
    "  }\n",
    "}\n",
    "l[\"aws_west\"] = {\n",
    "  \"labels\": {\n",
    "    \"provider\": \"aws-us-west-1\"\n",
    "  }\n",
    "}\n",
    "\n",
    "yamls[\"aws_east\"] = []\n",
    "yamls[\"aws_west\"] = []"
   ]
  },
  {
   "cell_type": "code",
   "execution_count": 4,
   "id": "5ec6c197",
   "metadata": {},
   "outputs": [
    {
     "name": "stdout",
     "output_type": "stream",
     "text": [
      "# YAMLs for cluster: aws_east\n",
      "# YAMLs for cluster: aws_west\n"
     ]
    }
   ],
   "source": [
    "# case1 prepration: only one cluster has servers,\n",
    "# and services uses LoadBalancer (direct communication)\n",
    "\n",
    "# For all clusters\n",
    "for k, v in l.items():\n",
    "  d = ns_base.copy()\n",
    "  d[\"metadata\"][\"name\"] = namespace\n",
    "  yamls[k].append(d)\n",
    "\n",
    "  d = fortio_svc.copy()\n",
    "  d[\"metadata\"][\"namespace\"] = namespace\n",
    "  d[\"spec\"][\"type\"] = \"LoadBalancer\"\n",
    "  yamls[k].append(d)\n",
    "\n",
    "  d = iperf3_svc.copy()\n",
    "  d[\"metadata\"][\"namespace\"] = namespace\n",
    "  d[\"spec\"][\"type\"] = \"LoadBalancer\"\n",
    "  yamls[k].append(d)\n",
    "\n",
    "  d = dst_rule.copy()\n",
    "  d[\"metadata\"][\"namespace\"] = namespace\n",
    "  # We want to prioritize aws east (i.e. client in west goes to east first)\n",
    "  d[\"spec\"][\"trafficPolicy\"][\"loadBalancer\"][\"localityLbSetting\"][\"failoverPriority\"] = [\"provider=aws-us-east-1\"]\n",
    "  yamls[k].append(d)\n",
    "\n",
    "  # no service monitors for this app. \n",
    "\n",
    "k = \"aws_east\"\n",
    "v = l[k]\n",
    "\n",
    "d = fortio_server.copy()\n",
    "d[\"metadata\"][\"labels\"] = v[\"labels\"]\n",
    "d[\"metadata\"][\"namespace\"] = namespace\n",
    "yamls[k].append(d)\n",
    "\n",
    "d = iperf3_server.copy()\n",
    "d[\"metadata\"][\"labels\"] = v[\"labels\"]\n",
    "d[\"metadata\"][\"namespace\"] = namespace\n",
    "yamls[k].append(d)\n",
    "\n",
    "for k, v in yamls.items():\n",
    "  print(f\"# YAMLs for cluster: {k}\")\n",
    "  with open(f\"deploy-{k}.yaml\", \"w\") as f:\n",
    "    out = \"---\\n\".join([yaml.dump(doc) for doc in v])\n",
    "    f.write(out)\n",
    "  "
   ]
  },
  {
   "cell_type": "code",
   "execution_count": 5,
   "id": "3edf6162",
   "metadata": {},
   "outputs": [],
   "source": [
    "# Once deployed, get the external service IP and use it\n",
    "\n",
    "fortio_ext_address = \"a7539eda8f1724befb3e21c123acb3e6-1295078554.us-east-1.elb.amazonaws.com\"\n",
    "iperf3_ext_address = \"ab9ae01336c0e4acc861e533b2de070c-1901118216.us-east-1.elb.amazonaws.com\"\n",
    "\n",
    "yamls_west = []\n",
    "k = \"aws_west\"\n",
    "v = l[k]\n",
    "d = client_fortio[0].copy()\n",
    "d[\"metadata\"][\"namespace\"] = namespace\n",
    "d[\"spec\"][\"template\"][\"spec\"][\"containers\"][0][\"env\"][0][\"value\"] = fortio_ext_address\n",
    "yamls_west.append(d)\n",
    "\n",
    "d = client_iperf3[0].copy()\n",
    "d[\"metadata\"][\"namespace\"] = namespace\n",
    "d[\"spec\"][\"template\"][\"spec\"][\"containers\"][0][\"env\"][0][\"value\"] = iperf3_ext_address\n",
    "yamls_west.append(d)\n",
    "\n",
    "# add PV and PVC to store results\n",
    "d = pv.copy()\n",
    "yamls_west.append(d)\n",
    "\n",
    "d = pvc.copy()\n",
    "d[\"metadata\"][\"namespace\"] = namespace\n",
    "yamls_west.append(d)\n",
    "\n",
    "with open(f\"deploy-{k}-clients.yaml\", \"w\") as f:\n",
    "  out = \"---\\n\".join([yaml.dump(doc) for doc in yamls_west])\n",
    "  f.write(out)\n"
   ]
  }
 ],
 "metadata": {
  "kernelspec": {
   "display_name": ".venv",
   "language": "python",
   "name": "python3"
  },
  "language_info": {
   "codemirror_mode": {
    "name": "ipython",
    "version": 3
   },
   "file_extension": ".py",
   "mimetype": "text/x-python",
   "name": "python",
   "nbconvert_exporter": "python",
   "pygments_lexer": "ipython3",
   "version": "3.12.3"
  }
 },
 "nbformat": 4,
 "nbformat_minor": 5
}
